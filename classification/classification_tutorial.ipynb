{
 "cells": [
  {
   "cell_type": "code",
   "execution_count": 1,
   "metadata": {},
   "outputs": [
    {
     "name": "stdout",
     "output_type": "stream",
     "text": [
      "Not in colab, continue\n"
     ]
    }
   ],
   "source": [
    "import os\n",
    "import sys\n",
    "\n",
    "try :\n",
    "    from google.colab import drive\n",
    "    drive.mount(\"/content/drive\", force_remount=True)\n",
    "    sys.path.append(\"/content/drive/MyDrive/CBNU/Classification\")\n",
    "    print(os.getcwd())\n",
    "    os.chdir(\"/content/drive/MyDrive/CBNU/Classification\")\n",
    "    print(os.getcwd())\n",
    "except ModuleNotFoundError:\n",
    "    print(\"Not in colab, continue\")"
   ]
  },
  {
   "cell_type": "markdown",
   "metadata": {},
   "source": [
    "위의 코드는 try/except 문으로 분기를 만듭니다.\n",
    "\n",
    "from google.colab import drive 문에서 에러가 나지 않는다면, 즉 현재 환경이 Google Colab 이면 try 문이 실행되고\n",
    "\n",
    "from google.colab import drive 문에서 에러가 난다면, 즉 현재 환경이 Google Corlab 아니라면 except 문이 실행됩니다.\n",
    "\n",
    "\n",
    "try 문에서는\n",
    "\n",
    "(1) Google Drive 를 Colab에 마운트 합니다.\n",
    "\n",
    "Colab은 기본적으로 내 Google Drive 안에 있는 파일을 볼 권한이 없는 것으로 보입니다.\n",
    "\n",
    "따라서 해당 문을 실행해서 권한/인증 설정을 해줘야 합니다.\n",
    "\n",
    "drive.mount(\"/content/drive\", force_remount=True) 명령어를 통해 내 Google Drive를 Colab이 볼 수 있는 위치에 마운트 합니다.\n",
    "\n",
    "\n",
    "\n",
    "\n",
    "(2) Current Working Directory(CWD)를 바꾸거나 코드가 있는 위치를 환경 변수에 추가합니다.\n",
    "\n",
    "os.getcwd()를 실행해보면 내 CWD가 코드와 데이터가 있는 위치가 아닙니다.\n",
    "\n",
    "따라서 os.chdir(~)를 실행하여 현재 코드가 있는 위치의 경로로 내 CWD를 바꿔줘야 합니다.\n",
    "\n",
    "혹은 sys.path.append(~)를 실행하여 코드가 있는 위치를 추가해주는 방법도 있습니다.\n",
    "\n",
    "\n",
    "except 문에서는\n",
    "\n",
    "현재 환경이 Google Colab이 아니기 때문에 위 절차를 생략합니다."
   ]
  },
  {
   "cell_type": "code",
   "execution_count": 2,
   "metadata": {},
   "outputs": [],
   "source": [
    "from options import BaseOptions, TrainOptions, TestOptions"
   ]
  },
  {
   "cell_type": "markdown",
   "metadata": {},
   "source": [
    "options.py 에서 BaseOptions, TrainOptions, TestOptions 클래스들을 불러옵니다.\n",
    "이전 코드가 제대로 돌지 않았다면 이 코드는 실행되지 않습니다."
   ]
  },
  {
   "cell_type": "code",
   "execution_count": 3,
   "metadata": {},
   "outputs": [
    {
     "name": "stdout",
     "output_type": "stream",
     "text": [
      "Namespace(name='default', seed=1111, in_channels=1, num_classes=2, image_size=224, data_root='/Users/eunsu/CBNU/Classification/Dataset', save_root='/Users/eunsu/CBNU/Classification/Result')\n"
     ]
    }
   ],
   "source": [
    "tmp = BaseOptions()\n",
    "opt_base = tmp.parse()\n",
    "print(opt_base)"
   ]
  },
  {
   "cell_type": "markdown",
   "metadata": {},
   "source": [
    "BaseOptions를 호출하고 (tmp) parse 메써드를 실행한 결과를 opt_base 변수에 저장합니다.\n",
    "\n",
    "이 과정은 opt_base = BaseOptions().parse() 로 한 줄로 써도 됩니다.\n",
    "\n",
    "변수를 출력해보면 BaseOption에서 선언한 하이퍼파라미터들과 그 기본값들이 보입니다."
   ]
  },
  {
   "cell_type": "code",
   "execution_count": 4,
   "metadata": {},
   "outputs": [
    {
     "name": "stdout",
     "output_type": "stream",
     "text": [
      "Namespace(name='default', seed=1111, in_channels=1, num_classes=2, image_size=224, data_root='/Users/eunsu/CBNU/Classification/Dataset', save_root='/Users/eunsu/CBNU/Classification/Result', is_train=True, gpu_id=0, batch_size=4, num_workers=2, num_epochs=10, lr=0.0002)\n"
     ]
    }
   ],
   "source": [
    "opt_train = TrainOptions().parse()\n",
    "print(opt_train)"
   ]
  },
  {
   "cell_type": "markdown",
   "metadata": {},
   "source": [
    "TrainOptions를 호출하고 (tmp) parse 메써드를 실행한 결과를 opt_train 변수에 저장합니다.\n",
    "\n",
    "parse 메써드는 BaseOptions 에서 상속받았기 때문에 TrainOptions 에서 따로 정의하지 않아도 됩니다.\n",
    "\n",
    "변수를 출력해보면 BaseOption에서 선언한 하이퍼파라미터들과 TrainOptions 에서 추가적으로 선언한 하이퍼파라미터들과 그 기본값들이 보입니다."
   ]
  },
  {
   "cell_type": "code",
   "execution_count": 5,
   "metadata": {},
   "outputs": [
    {
     "name": "stdout",
     "output_type": "stream",
     "text": [
      "Namespace(name='default', seed=1111, in_channels=1, num_classes=2, image_size=224, data_root='/Users/eunsu/CBNU/Classification/Dataset', save_root='/Users/eunsu/CBNU/Classification/Result', is_train=False, gpu_id=0, batch_size=1, num_workers=0, epoch_test=5)\n"
     ]
    }
   ],
   "source": [
    "opt_test = TestOptions().parse()\n",
    "print(opt_test)"
   ]
  },
  {
   "cell_type": "markdown",
   "metadata": {},
   "source": [
    "TestOptions를 호출하고 (tmp) parse 메써드를 실행한 결과를 opt_test 변수에 저장합니다.\n",
    "\n",
    "변수를 출력해보면 BaseOption에서 선언한 하이퍼파라미터들과 TestOptions 에서 추가적으로 선언한 하이퍼파라미터들과 그 기본값들이 보입니다.\n",
    "\n",
    "TrainOptions 에서 선언한 하이퍼파라미터(lr 등)는 보이지 않습니다.\n",
    "\n",
    "또한 TrainOptions 와 같은 하이퍼파라미터(batch_size 등)일지라도 값이 다른 것을 볼 수 있습니다."
   ]
  },
  {
   "cell_type": "code",
   "execution_count": 6,
   "metadata": {},
   "outputs": [],
   "source": [
    "from pipeline import CustomDataset"
   ]
  },
  {
   "cell_type": "markdown",
   "metadata": {},
   "source": [
    "pipeline에서 정의한 CustomDataset 클래스를 불러옵니다."
   ]
  },
  {
   "cell_type": "code",
   "execution_count": 7,
   "metadata": {},
   "outputs": [
    {
     "name": "stdout",
     "output_type": "stream",
     "text": [
      "3914\n"
     ]
    }
   ],
   "source": [
    "train_dataset = CustomDataset(opt_train.data_root, opt_train.image_size, opt_train.is_train)\n",
    "print(len(train_dataset))"
   ]
  },
  {
   "cell_type": "markdown",
   "metadata": {},
   "source": [
    "CustomDataset을 초기화합니다.\n",
    "\n",
    "CustomDataset의 __init__가 요구로 하는 세가지를 입력해줍니다.\n",
    "\n",
    "현재는 train_dataset을 만들고자 하는 것이기 때문에 opt_train 안에 있는 하이퍼파라미터들을 입력해줍니다.\n",
    "\n",
    "만약 숫자가 0이 출력된다면 options.py 에서 data_root가 잘못 되어 있을 확률이 높습니다."
   ]
  },
  {
   "cell_type": "code",
   "execution_count": 10,
   "metadata": {},
   "outputs": [
    {
     "name": "stdout",
     "output_type": "stream",
     "text": [
      "torch.Size([1, 224, 224]) torch.Size([2]) tensor([1., 0.])\n"
     ]
    }
   ],
   "source": [
    "A = train_dataset[0]\n",
    "print(A[0].shape, A[1].shape, A[1])"
   ]
  },
  {
   "cell_type": "markdown",
   "metadata": {},
   "source": []
  }
 ],
 "metadata": {
  "kernelspec": {
   "display_name": "cbnu",
   "language": "python",
   "name": "python3"
  },
  "language_info": {
   "codemirror_mode": {
    "name": "ipython",
    "version": 3
   },
   "file_extension": ".py",
   "mimetype": "text/x-python",
   "name": "python",
   "nbconvert_exporter": "python",
   "pygments_lexer": "ipython3",
   "version": "3.11.8"
  }
 },
 "nbformat": 4,
 "nbformat_minor": 2
}
