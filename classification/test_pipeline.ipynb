{
 "cells": [
  {
   "cell_type": "code",
   "execution_count": 1,
   "metadata": {},
   "outputs": [
    {
     "name": "stdout",
     "output_type": "stream",
     "text": [
      "Not in colab, continue\n"
     ]
    }
   ],
   "source": [
    "import os\n",
    "import sys\n",
    "\n",
    "try :\n",
    "    from google.colab import drive\n",
    "    drive.mount(\"/content/drive\", force_remount=True)\n",
    "    sys.path.append(\"/content/drive/MyDrive/CBNU/Classification\")\n",
    "    print(os.getcwd())\n",
    "    os.chdir(\"/content/drive/MyDrive/CBNU/Classification\")\n",
    "    print(os.getcwd())\n",
    "except ModuleNotFoundError:\n",
    "    print(\"Not in colab, continue\")"
   ]
  },
  {
   "cell_type": "code",
   "execution_count": 2,
   "metadata": {},
   "outputs": [],
   "source": [
    "from options import TrainOptions\n",
    "opt = TrainOptions().parse()"
   ]
  },
  {
   "cell_type": "code",
   "execution_count": 3,
   "metadata": {},
   "outputs": [],
   "source": [
    "from pipeline import CustomDataset\n",
    "from torch.utils.data import DataLoader"
   ]
  },
  {
   "cell_type": "code",
   "execution_count": 4,
   "metadata": {},
   "outputs": [
    {
     "name": "stdout",
     "output_type": "stream",
     "text": [
      "3914\n"
     ]
    }
   ],
   "source": [
    "dataset = CustomDataset(opt.data_root, opt.image_size, opt.is_train)\n",
    "print(len(dataset))"
   ]
  },
  {
   "cell_type": "code",
   "execution_count": 5,
   "metadata": {},
   "outputs": [
    {
     "name": "stdout",
     "output_type": "stream",
     "text": [
      "tensor([[[0., 0., 0.,  ..., 0., 0., 0.],\n",
      "         [0., 0., 0.,  ..., 0., 0., 0.],\n",
      "         [0., 0., 0.,  ..., 0., 0., 0.],\n",
      "         ...,\n",
      "         [0., 0., 0.,  ..., 0., 0., 0.],\n",
      "         [0., 0., 0.,  ..., 0., 0., 0.],\n",
      "         [0., 0., 0.,  ..., 0., 0., 0.]]]) tensor([1., 0.])\n"
     ]
    }
   ],
   "source": [
    "image, label = dataset[0]\n",
    "print(image, label)"
   ]
  },
  {
   "cell_type": "code",
   "execution_count": 6,
   "metadata": {},
   "outputs": [
    {
     "name": "stdout",
     "output_type": "stream",
     "text": [
      "979\n"
     ]
    }
   ],
   "source": [
    "dataloader = DataLoader(dataset, batch_size=opt.batch_size, shuffle=True, num_workers=opt.num_workers)\n",
    "print(len(dataloader))"
   ]
  },
  {
   "cell_type": "code",
   "execution_count": 7,
   "metadata": {},
   "outputs": [
    {
     "name": "stdout",
     "output_type": "stream",
     "text": [
      "0 torch.Size([4, 1, 224, 224]) torch.Size([4, 2])\n",
      "1 torch.Size([4, 1, 224, 224]) torch.Size([4, 2])\n",
      "2 torch.Size([4, 1, 224, 224]) torch.Size([4, 2])\n",
      "3 torch.Size([4, 1, 224, 224]) torch.Size([4, 2])\n",
      "4 torch.Size([4, 1, 224, 224]) torch.Size([4, 2])\n",
      "5 torch.Size([4, 1, 224, 224]) torch.Size([4, 2])\n",
      "6 torch.Size([4, 1, 224, 224]) torch.Size([4, 2])\n",
      "7 torch.Size([4, 1, 224, 224]) torch.Size([4, 2])\n",
      "8 torch.Size([4, 1, 224, 224]) torch.Size([4, 2])\n",
      "9 torch.Size([4, 1, 224, 224]) torch.Size([4, 2])\n",
      "10 torch.Size([4, 1, 224, 224]) torch.Size([4, 2])\n",
      "11 torch.Size([4, 1, 224, 224]) torch.Size([4, 2])\n"
     ]
    }
   ],
   "source": [
    "for i, data in enumerate(dataloader):\n",
    "    image, label = data\n",
    "    print(i, image.size(), label.size())\n",
    "    if i > 10:\n",
    "        break"
   ]
  },
  {
   "cell_type": "code",
   "execution_count": 8,
   "metadata": {},
   "outputs": [],
   "source": [
    "from pipeline import define_dataset"
   ]
  },
  {
   "cell_type": "code",
   "execution_count": 9,
   "metadata": {},
   "outputs": [
    {
     "name": "stdout",
     "output_type": "stream",
     "text": [
      "3914 979\n"
     ]
    }
   ],
   "source": [
    "dataset, dataloader = define_dataset(opt)\n",
    "print(len(dataset), len(dataloader))"
   ]
  },
  {
   "cell_type": "code",
   "execution_count": 10,
   "metadata": {},
   "outputs": [
    {
     "name": "stdout",
     "output_type": "stream",
     "text": [
      "<pipeline.CustomDataset object at 0x28adeee90>\n",
      "<torch.utils.data.dataloader.DataLoader object at 0x28aded390>\n"
     ]
    }
   ],
   "source": [
    "print(dataset)\n",
    "print(dataloader)"
   ]
  },
  {
   "cell_type": "code",
   "execution_count": null,
   "metadata": {},
   "outputs": [],
   "source": []
  }
 ],
 "metadata": {
  "kernelspec": {
   "display_name": "cbnu",
   "language": "python",
   "name": "python3"
  },
  "language_info": {
   "codemirror_mode": {
    "name": "ipython",
    "version": 3
   },
   "file_extension": ".py",
   "mimetype": "text/x-python",
   "name": "python",
   "nbconvert_exporter": "python",
   "pygments_lexer": "ipython3",
   "version": "3.11.8"
  }
 },
 "nbformat": 4,
 "nbformat_minor": 2
}
